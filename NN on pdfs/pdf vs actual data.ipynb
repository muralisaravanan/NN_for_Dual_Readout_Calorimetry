{
 "cells": [
  {
   "cell_type": "code",
   "execution_count": 1,
   "metadata": {},
   "outputs": [
    {
     "name": "stderr",
     "output_type": "stream",
     "text": [
      "Using TensorFlow backend.\n"
     ]
    },
    {
     "data": {
      "text/plain": [
       "'\\nBased on work by Federico De Guio: https://github.com/deguio/ML4DQM/blob/master/notebooks/Semi_Supervised/AE_ssl_random_hotdead_size.ipynb\\nSee: https://indico.cern.ch/event/783825/contributions/3261553/attachments/1789464/2914642/hcaldpg_fpga_ml_reco_01feb2019.pdf\\nfor possible implementation into FPGA\\n'"
      ]
     },
     "execution_count": 1,
     "metadata": {},
     "output_type": "execute_result"
    }
   ],
   "source": [
    "import matplotlib\n",
    "import matplotlib.pyplot as plt\n",
    "import numpy as np\n",
    "import scipy as sp\n",
    "import scipy.signal as signal\n",
    "import random\n",
    "import keras\n",
    "from keras.callbacks import ModelCheckpoint, EarlyStopping\n",
    "from sklearn.model_selection import train_test_split\n",
    "from keras.models import Sequential, load_model\n",
    "from keras.layers import Dense\n",
    "from keras.wrappers.scikit_learn import KerasRegressor\n",
    "from sklearn.model_selection import cross_val_score\n",
    "from sklearn.model_selection import KFold\n",
    "from sklearn.preprocessing import StandardScaler, MinMaxScaler\n",
    "from sklearn.pipeline import Pipeline\n",
    "import utils\n",
    "import h5py\n",
    "import time\n",
    "from sklearn.preprocessing import MinMaxScaler\n",
    "\n",
    "from numpy.random import seed\n",
    "seed(5)\n",
    "from tensorflow import set_random_seed\n",
    "set_random_seed(7)\n",
    "'''\n",
    "Based on work by Federico De Guio: https://github.com/deguio/ML4DQM/blob/master/notebooks/Semi_Supervised/AE_ssl_random_hotdead_size.ipynb\n",
    "See: https://indico.cern.ch/event/783825/contributions/3261553/attachments/1789464/2914642/hcaldpg_fpga_ml_reco_01feb2019.pdf\n",
    "for possible implementation into FPGA\n",
    "'''"
   ]
  },
  {
   "cell_type": "code",
   "execution_count": null,
   "metadata": {},
   "outputs": [],
   "source": []
  },
  {
   "cell_type": "code",
   "execution_count": null,
   "metadata": {},
   "outputs": [],
   "source": []
  },
  {
   "cell_type": "code",
   "execution_count": null,
   "metadata": {},
   "outputs": [],
   "source": []
  },
  {
   "cell_type": "code",
   "execution_count": null,
   "metadata": {},
   "outputs": [],
   "source": []
  },
  {
   "cell_type": "code",
   "execution_count": null,
   "metadata": {},
   "outputs": [],
   "source": []
  },
  {
   "cell_type": "code",
   "execution_count": null,
   "metadata": {},
   "outputs": [],
   "source": []
  },
  {
   "cell_type": "code",
   "execution_count": null,
   "metadata": {},
   "outputs": [],
   "source": []
  },
  {
   "cell_type": "code",
   "execution_count": null,
   "metadata": {},
   "outputs": [],
   "source": []
  },
  {
   "cell_type": "code",
   "execution_count": null,
   "metadata": {},
   "outputs": [],
   "source": []
  },
  {
   "cell_type": "code",
   "execution_count": 2,
   "metadata": {},
   "outputs": [],
   "source": [
    "file=h5py.File('PDfsOnlyTestingLibrary_20x20.hdf5', 'r')\n",
    "\n",
    "X=[]\n",
    "Y=[]\n",
    "labels=[]\n",
    "\n",
    "for groups in file.values():\n",
    "\n",
    "    for subgroup in groups.values():\n",
    "\n",
    "        for event in subgroup.values():\n",
    "            \n",
    "                \n",
    "            if event.name[-5:]==\"input\":\n",
    "                X.append(event[:])\n",
    "                labels.append(event.name)\n",
    "            elif event.name[-6:]==\"output\":\n",
    "                Y.append(event[:])\n",
    "                 \n",
    "\n",
    "file.close()"
   ]
  },
  {
   "cell_type": "code",
   "execution_count": 5,
   "metadata": {},
   "outputs": [],
   "source": [
    "X=np.asarray(X)\n",
    "\n",
    "\n",
    "\n"
   ]
  },
  {
   "cell_type": "code",
   "execution_count": 15,
   "metadata": {},
   "outputs": [],
   "source": [
    "scaler=MinMaxScaler()\n"
   ]
  },
  {
   "cell_type": "code",
   "execution_count": 16,
   "metadata": {},
   "outputs": [
    {
     "data": {
      "text/plain": [
       "MinMaxScaler(copy=True, feature_range=(0, 1))"
      ]
     },
     "execution_count": 16,
     "metadata": {},
     "output_type": "execute_result"
    }
   ],
   "source": [
    "scaler.fit(X)"
   ]
  },
  {
   "cell_type": "code",
   "execution_count": 25,
   "metadata": {},
   "outputs": [
    {
     "name": "stdout",
     "output_type": "stream",
     "text": [
      "[[0.00000000e+00 0.00000000e+00 0.00000000e+00 ... 4.91725486e-09\n",
      "  4.15536492e-09 3.51152383e-09]\n",
      " [0.00000000e+00 0.00000000e+00 0.00000000e+00 ... 2.43595169e-08\n",
      "  2.09677542e-08 1.80482526e-08]\n",
      " [0.00000000e+00 0.00000000e+00 0.00000000e+00 ... 8.70736590e-08\n",
      "  7.60658989e-08 6.64497282e-08]\n",
      " ...\n",
      " [0.00000000e+00 0.00000000e+00 0.00000000e+00 ... 9.62767957e-06\n",
      "  9.11680798e-06 8.63304467e-06]\n",
      " [0.00000000e+00 0.00000000e+00 0.00000000e+00 ... 1.12563310e-05\n",
      "  1.06812918e-05 1.01356291e-05]\n",
      " [0.00000000e+00 0.00000000e+00 0.00000000e+00 ... 1.29946341e-05\n",
      "  1.23546370e-05 1.17461603e-05]]\n",
      "[[0.00000000e+00 0.00000000e+00 0.00000000e+00 ... 2.10879629e-08\n",
      "  1.78205490e-08 1.50593952e-08]\n",
      " [0.00000000e+00 0.00000000e+00 0.00000000e+00 ... 1.04467351e-07\n",
      "  8.99215590e-08 7.74010893e-08]\n",
      " [0.00000000e+00 0.00000000e+00 0.00000000e+00 ... 3.73420973e-07\n",
      "  3.26213487e-07 2.84973922e-07]\n",
      " ...\n",
      " [0.00000000e+00 0.00000000e+00 0.00000000e+00 ... 4.12889215e-05\n",
      "  3.90980159e-05 3.70233659e-05]\n",
      " [0.00000000e+00 0.00000000e+00 0.00000000e+00 ... 4.82734975e-05\n",
      "  4.58074053e-05 4.34672956e-05]\n",
      " [0.00000000e+00 0.00000000e+00 0.00000000e+00 ... 5.57283218e-05\n",
      "  5.29836533e-05 5.03741621e-05]]\n",
      "[0.00000000e+00 0.00000000e+00 0.00000000e+00 0.00000000e+00\n",
      " 2.33178277e-01 9.87751689e-02 4.43141748e-02 3.65535830e-02\n",
      " 3.05641470e-02 2.57098420e-02 2.17083444e-02 1.87611006e-02\n",
      " 1.65030272e-02 1.47376719e-02 1.33177912e-02 1.21407729e-02\n",
      " 1.11645012e-02 1.03312707e-02 9.61654800e-03 8.99740025e-03\n",
      " 8.45530679e-03 7.97857596e-03 7.55645953e-03 7.17917244e-03\n",
      " 6.82559189e-03 6.48942551e-03 6.16981563e-03 5.86594682e-03\n",
      " 5.57704382e-03 5.30236954e-03 5.04122321e-03 4.79293857e-03\n",
      " 4.55688216e-03 4.33245173e-03 4.11907470e-03 3.91620668e-03\n",
      " 3.72333008e-03 3.53995282e-03 3.36560706e-03 3.19984797e-03\n",
      " 3.04225266e-03 2.89241906e-03 2.74996490e-03 2.61452673e-03\n",
      " 2.48575900e-03 2.36333320e-03 2.24693698e-03 2.13627337e-03\n",
      " 2.03106004e-03 1.93102856e-03 1.83592372e-03 1.74550287e-03\n",
      " 1.65953533e-03 1.57780177e-03 1.50009365e-03 1.42621273e-03\n",
      " 1.35597051e-03 1.28918778e-03 1.22569415e-03 1.16532765e-03\n",
      " 1.10793424e-03 1.05336751e-03 1.00148824e-03 9.52164074e-04\n",
      " 9.05269162e-04 8.60683865e-04 8.18294433e-04 7.77992718e-04\n",
      " 7.39675897e-04 7.03246214e-04 6.68610723e-04 6.35681062e-04\n",
      " 6.04373214e-04 5.74607306e-04 5.46307394e-04 5.19401278e-04\n",
      " 4.93820312e-04 4.69499230e-04 4.46375983e-04 4.24391576e-04\n",
      " 4.03489921e-04 3.83617690e-04 3.64724184e-04 3.46761199e-04\n",
      " 3.29682907e-04 3.13445736e-04 2.98008260e-04 2.83331093e-04\n",
      " 2.69376789e-04 2.56109747e-04 2.43496119e-04 2.31503722e-04\n",
      " 2.20101962e-04 2.09261748e-04 1.98955424e-04 1.89156696e-04\n",
      " 1.79840563e-04 1.70983259e-04 1.62562184e-04 1.54555854e-04]\n",
      "[0.00000000e+00 0.00000000e+00 0.00000000e+00 0.00000000e+00\n",
      " 1.00000000e+00 4.23603648e-01 1.90044181e-01 1.56762386e-01\n",
      " 1.31076305e-01 1.10258307e-01 9.30976278e-02 8.04581835e-02\n",
      " 7.07742909e-02 6.32034512e-02 5.71142020e-02 5.20664836e-02\n",
      " 4.78796794e-02 4.43063170e-02 4.12411830e-02 3.85859282e-02\n",
      " 3.62611256e-02 3.42166348e-02 3.24063615e-02 3.07883416e-02\n",
      " 2.92719887e-02 2.78303176e-02 2.64596502e-02 2.51564893e-02\n",
      " 2.39175102e-02 2.27395520e-02 2.16196092e-02 2.05548245e-02\n",
      " 1.95424815e-02 1.85799972e-02 1.76649161e-02 1.67949036e-02\n",
      " 1.59677399e-02 1.51813148e-02 1.44336218e-02 1.37227533e-02\n",
      " 1.30468957e-02 1.24043247e-02 1.17934009e-02 1.12125656e-02\n",
      " 1.06603370e-02 1.01353061e-02 9.63613338e-03 9.16154540e-03\n",
      " 8.71033129e-03 8.28133987e-03 7.87347665e-03 7.48570105e-03\n",
      " 7.11702374e-03 6.76650410e-03 6.43324787e-03 6.11640479e-03\n",
      " 5.81516652e-03 5.52876449e-03 5.25646801e-03 4.99758237e-03\n",
      " 4.75144708e-03 4.51743416e-03 4.29494658e-03 4.08341671e-03\n",
      " 3.88230488e-03 3.69109797e-03 3.50930817e-03 3.33647168e-03\n",
      " 3.17214754e-03 3.01591650e-03 2.86737998e-03 2.72615901e-03\n",
      " 2.59189330e-03 2.46424029e-03 2.34287431e-03 2.22748570e-03\n",
      " 2.11778009e-03 2.01347757e-03 1.91431204e-03 1.82003050e-03\n",
      " 1.73039241e-03 1.64516907e-03 1.56414306e-03 1.48710765e-03\n",
      " 1.41386630e-03 1.34423215e-03 1.27802754e-03 1.21508357e-03\n",
      " 1.15523964e-03 1.09834308e-03 1.04424873e-03 9.92818564e-04\n",
      " 9.43921383e-04 8.97432431e-04 8.53233100e-04 8.11210625e-04\n",
      " 7.71257793e-04 7.33272674e-04 6.97158354e-04 6.62822697e-04]\n"
     ]
    },
    {
     "data": {
      "text/plain": [
       "[<matplotlib.lines.Line2D at 0x18c4a4082b0>]"
      ]
     },
     "execution_count": 25,
     "metadata": {},
     "output_type": "execute_result"
    },
    {
     "data": {
      "image/png": "[encoded data removed]",
      "text/plain": [
       "<Figure size 432x288 with 1 Axes>"
      ]
     },
     "metadata": {},
     "output_type": "display_data"
    },
    {
     "data": {
      "image/png": "[encoded data removed]",
      "text/plain": [
       "<Figure size 432x288 with 1 Axes>"
      ]
     },
     "metadata": {},
     "output_type": "display_data"
    }
   ],
   "source": [
    "norm_factor=np.amax(X)\n",
    "print(norm_factor)\n",
    "\n",
    "X_scaled=X/norm_factor\n",
    "print(X)\n",
    "print(X_scaled)\n",
    "print(X.max(axis=0))\n",
    "print(X_scaled.max(axis=0))\n",
    "\n",
    "plt.plot(X[0])\n",
    "plt.figure()\n",
    "plt.plot(X_scaled[0])"
   ]
  },
  {
   "cell_type": "code",
   "execution_count": 26,
   "metadata": {},
   "outputs": [
    {
     "name": "stdout",
     "output_type": "stream",
     "text": [
      "1.0\n"
     ]
    }
   ],
   "source": [
    "foo=np.amax(X_scaled)\n",
    "print(foo)"
   ]
  },
  {
   "cell_type": "code",
   "execution_count": null,
   "metadata": {},
   "outputs": [],
   "source": []
  },
  {
   "cell_type": "code",
   "execution_count": 4,
   "metadata": {},
   "outputs": [],
   "source": [
    "file=h5py.File('FinerParameterSpace500events1000photons100binsTrainingLibrary_15x15.hdf5', 'r')\n",
    "\n",
    "X2=[]\n",
    "Y2=[]\n",
    "labels2=[]\n",
    "counter=0\n",
    "for groups in file.values():\n",
    "\n",
    "    for subgroup in groups.values():\n",
    "\n",
    "        for event in subgroup.values():\n",
    "            if counter<500:\n",
    "                \n",
    "                if event.name[-5:]==\"input\":\n",
    "                    X2.append(event[:])\n",
    "                    labels2.append(event.name)\n",
    "                elif event.name[-6:]==\"output\":\n",
    "                    Y2.append(event[:])\n",
    "                counter+=1\n",
    "            else:\n",
    "                break\n",
    "\n",
    "file.close()"
   ]
  },
  {
   "cell_type": "code",
   "execution_count": null,
   "metadata": {},
   "outputs": [],
   "source": []
  },
  {
   "cell_type": "code",
   "execution_count": null,
   "metadata": {},
   "outputs": [],
   "source": []
  },
  {
   "cell_type": "code",
   "execution_count": 5,
   "metadata": {},
   "outputs": [],
   "source": [
    "file=h5py.File('NarrowerParameterSpace500events5000photons100binsTrainingLibrary.hdf5', 'r')\n",
    "\n",
    "X3=[]\n",
    "Y3=[]\n",
    "labels3=[]\n",
    "counter=0\n",
    "for groups in file.values():\n",
    "\n",
    "    for subgroup in groups.values():\n",
    "\n",
    "        for event in subgroup.values():\n",
    "            if counter<500:\n",
    "                \n",
    "                if event.name[-5:]==\"input\":\n",
    "                    X3.append(event[:])\n",
    "                    labels3.append(event.name)\n",
    "                elif event.name[-6:]==\"output\":\n",
    "                    Y3.append(event[:])\n",
    "                counter+=1\n",
    "            else:\n",
    "                break\n",
    "\n",
    "file.close()\n",
    "\n",
    "\n"
   ]
  },
  {
   "cell_type": "code",
   "execution_count": null,
   "metadata": {},
   "outputs": [],
   "source": []
  },
  {
   "cell_type": "code",
   "execution_count": 6,
   "metadata": {},
   "outputs": [],
   "source": [
    "file=h5py.File('NarrowerParameterSpace500events5000photons100binsTrainingLibrary.hdf5', 'r')\n",
    "\n",
    "X4=[]\n",
    "Y4=[]\n",
    "labels4=[]\n",
    "counter=0\n",
    "for groups in file.values():\n",
    "\n",
    "    for subgroup in groups.values():\n",
    "\n",
    "        for event in subgroup.values():\n",
    "            if counter<500:\n",
    "                \n",
    "                if event.name[-5:]==\"input\":\n",
    "                    data=event[:]\n",
    "                    data=np.asarray(data)\n",
    "                    norm_factor=np.trapz(data, dx=0.1)\n",
    "                    #norm_factor=max(data)\n",
    "                    data_normalized=data/norm_factor\n",
    "                    #print(data_normalized)\n",
    "                    X4.append(data_normalized)\n",
    "                    labels4.append(event.name)\n",
    "                elif event.name[-6:]==\"output\":\n",
    "                    Y4.append(event[:])\n",
    "                counter+=1\n",
    "            else:\n",
    "                break\n",
    "\n",
    "file.close()"
   ]
  },
  {
   "cell_type": "code",
   "execution_count": null,
   "metadata": {},
   "outputs": [],
   "source": []
  },
  {
   "cell_type": "code",
   "execution_count": 12,
   "metadata": {},
   "outputs": [],
   "source": [
    "file=h5py.File('FinerParameterSpace500events10000photons100binsTrainingLibrary_20x20.hdf5', 'r')\n",
    "integration_vals=[1.25, 3.75, 6.25, 8.75, 11.25, 13.75, 16.25, 18.75, 21.25, 23.75, 26.25, 28.75, 31.25, 33.75, 36.25, 38.75, 41.25, 43.75, 46.25, 48.75, 51.25, 53.75, 56.25, 58.75, 61.25, 63.75, 66.25, 68.75, 71.25, 73.75, 76.25, 78.75, 81.25, 83.75, 86.25, 88.75, 91.25, 93.75, 96.25, 98.75, 101.25, 103.75, 106.25, 108.75, 111.25, 113.75, 116.25, 118.75, 121.25, 123.75, 126.25, 128.75, 131.25, 133.75, 136.25, 138.75, 141.25, 143.75, 146.25, 148.75, 151.25, 153.75, 156.25, 158.75, 161.25, 163.75, 166.25, 168.75, 171.25, 173.75, 176.25, 178.75, 181.25, 183.75, 186.25, 188.75, 191.25, 193.75, 196.25, 198.75, 201.25, 203.75, 206.25, 208.75, 211.25, 213.75, 216.25, 218.75, 221.25, 223.75, 226.25, 228.75, 231.25, 233.75, 236.25, 238.75, 241.25, 243.75, 246.25, 248.75]\n",
    "X5=[]\n",
    "Y5=[]\n",
    "labels5=[]\n",
    "counter=0\n",
    "for groups in file.values():\n",
    "\n",
    "    for subgroup in groups.values():\n",
    "\n",
    "        for event in subgroup.values():\n",
    "            if 'event0' in event.name:\n",
    "                \n",
    "                if event.name[-5:]==\"input\":\n",
    "                    data=event[:]\n",
    "                    data=np.asarray(data)\n",
    "                    norm_factor=np.trapz(data, integration_vals)\n",
    "                    data_normalized=data/norm_factor\n",
    "                    #print(data_normalized)\n",
    "                    X5.append(data_normalized)\n",
    "                    labels5.append(event.name)\n",
    "                elif event.name[-6:]==\"output\":\n",
    "                    Y5.append(event[:])\n",
    "                \n",
    "\n",
    "file.close()"
   ]
  },
  {
   "cell_type": "code",
   "execution_count": null,
   "metadata": {},
   "outputs": [],
   "source": []
  },
  {
   "cell_type": "code",
   "execution_count": null,
   "metadata": {},
   "outputs": [],
   "source": []
  },
  {
   "cell_type": "code",
   "execution_count": 14,
   "metadata": {},
   "outputs": [
    {
     "data": {
      "text/plain": [
       "1.0"
      ]
     },
     "execution_count": 14,
     "metadata": {},
     "output_type": "execute_result"
    },
    {
     "data": {
      "image/png": "[encoded data removed]",
      "text/plain": [
       "<Figure size 432x288 with 1 Axes>"
      ]
     },
     "metadata": {},
     "output_type": "display_data"
    }
   ],
   "source": [
    "x=np.linspace(0,250,100)\n",
    "plt.plot(x,X[0], 'bo')\n",
    "\n",
    "np.trapz(X[-1], x)"
   ]
  },
  {
   "cell_type": "code",
   "execution_count": 17,
   "metadata": {},
   "outputs": [
    {
     "name": "stdout",
     "output_type": "stream",
     "text": [
      "[ 0.00000000e+00 -1.52549177e-03 -3.33199518e-03 -3.05098354e-03\n",
      "  1.44243702e-02  5.48930753e-03 -1.47346193e-04 -1.08084704e-03\n",
      " -8.98957566e-04 -1.93108774e-03 -8.73239161e-04 -2.34650395e-03\n",
      " -9.68944963e-04 -1.08103202e-03 -9.82226815e-04 -1.11500720e-03\n",
      " -5.45266416e-04 -9.01662631e-04 -6.37187562e-04 -5.30072200e-04\n",
      " -1.91863692e-04 -8.77987417e-04 -2.69298173e-04  1.00911007e-04\n",
      "  1.05615687e-04 -3.81186767e-04  4.08558867e-05 -1.17580341e-04\n",
      " -1.77399150e-04  1.91376981e-05 -1.32537431e-04 -1.92862807e-04\n",
      " -4.31186383e-05  7.43797167e-05  1.98552936e-04 -3.29338800e-05\n",
      "  1.41791180e-04 -1.21045369e-04 -1.39610807e-04  8.55674457e-05\n",
      "  7.23094435e-05 -9.94724168e-05  1.14933023e-05  4.36369483e-05\n",
      " -3.26877364e-06 -8.92714209e-05  2.63338116e-05 -1.78909255e-05\n",
      "  1.88055754e-05 -2.42527208e-05 -2.67150300e-05  1.13486964e-05\n",
      " -3.05542151e-05  8.10436291e-06  6.84865566e-06  5.78751036e-06\n",
      "  4.89078118e-06  4.13299313e-06  3.49261837e-06  2.95146464e-06\n",
      "  2.49415843e-06  2.10770821e-06  1.78113541e-06  1.50516250e-06\n",
      "  1.27194941e-06  1.07487086e-06  9.08328082e-07  7.67589795e-07\n",
      "  6.48657797e-07  5.48153377e-07  4.63221325e-07  3.91448827e-07\n",
      "  3.30796912e-07  2.79542534e-07  2.36229618e-07  1.99627698e-07\n",
      "  1.68696957e-07  1.42558692e-07  1.20470344e-07  1.01804413e-07\n",
      "  8.60306201e-08  7.27008526e-08  6.14364277e-08  5.19173367e-08\n",
      "  4.38731540e-08  3.70753541e-08  3.13308198e-08  2.64763558e-08\n",
      "  2.23740529e-08  1.89073695e-08  1.59778214e-08  1.35021837e-08\n",
      "  1.14101266e-08  9.64221729e-09  8.14823161e-09  6.88572725e-09\n",
      "  5.81883801e-09  4.91725486e-09  4.15536492e-09  3.51152383e-09]\n"
     ]
    },
    {
     "data": {
      "image/png": "[encoded data removed]",
      "text/plain": [
       "<Figure size 432x288 with 1 Axes>"
      ]
     },
     "metadata": {},
     "output_type": "display_data"
    }
   ],
   "source": [
    "plt.plot(X5[0], 'bo')\n",
    "\n",
    "np.trapz(X5[0], dx=2.5)\n",
    "\n",
    "print(X[0]-X5[0])"
   ]
  },
  {
   "cell_type": "code",
   "execution_count": 9,
   "metadata": {},
   "outputs": [
    {
     "data": {
      "text/plain": [
       "[<matplotlib.lines.Line2D at 0x2af22e6de10>]"
      ]
     },
     "execution_count": 9,
     "metadata": {},
     "output_type": "execute_result"
    },
    {
     "data": {
      "image/png": "[encoded data removed]",
      "text/plain": [
       "<Figure size 432x288 with 1 Axes>"
      ]
     },
     "metadata": {},
     "output_type": "display_data"
    }
   ],
   "source": [
    "plt.plot(X3[0]/max(X3[0]), 'bo')"
   ]
  },
  {
   "cell_type": "code",
   "execution_count": 10,
   "metadata": {},
   "outputs": [
    {
     "data": {
      "text/plain": [
       "[<matplotlib.lines.Line2D at 0x2af22ec6898>]"
      ]
     },
     "execution_count": 10,
     "metadata": {},
     "output_type": "execute_result"
    },
    {
     "data": {
      "image/png": "[encoded data removed]",
      "text/plain": [
       "<Figure size 432x288 with 1 Axes>"
      ]
     },
     "metadata": {},
     "output_type": "display_data"
    }
   ],
   "source": [
    "plt.plot(X4[0], 'bo')"
   ]
  },
  {
   "cell_type": "code",
   "execution_count": 11,
   "metadata": {},
   "outputs": [
    {
     "data": {
      "text/plain": [
       "1.0"
      ]
     },
     "execution_count": 11,
     "metadata": {},
     "output_type": "execute_result"
    }
   ],
   "source": [
    "np.trapz(X4[0],dx=0.1)"
   ]
  },
  {
   "cell_type": "code",
   "execution_count": null,
   "metadata": {},
   "outputs": [],
   "source": []
  }
 ],
 "metadata": {
  "kernelspec": {
   "display_name": "Python 3",
   "language": "python",
   "name": "python3"
  },
  "language_info": {
   "codemirror_mode": {
    "name": "ipython",
    "version": 3
   },
   "file_extension": ".py",
   "mimetype": "text/x-python",
   "name": "python",
   "nbconvert_exporter": "python",
   "pygments_lexer": "ipython3",
   "version": "3.6.5"
  }
 },
 "nbformat": 4,
 "nbformat_minor": 2
}
