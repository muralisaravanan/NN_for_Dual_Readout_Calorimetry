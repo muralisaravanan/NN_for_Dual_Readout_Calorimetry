{
 "cells": [
  {
   "cell_type": "code",
   "execution_count": 6,
   "metadata": {},
   "outputs": [
    {
     "data": {
      "text/plain": [
       "'\\nBased on work by Federico De Guio: https://github.com/deguio/ML4DQM/blob/master/notebooks/Semi_Supervised/AE_ssl_random_hotdead_size.ipynb\\nSee: https://indico.cern.ch/event/783825/contributions/3261553/attachments/1789464/2914642/hcaldpg_fpga_ml_reco_01feb2019.pdf\\nfor possible implementation into FPGA\\n'"
      ]
     },
     "execution_count": 6,
     "metadata": {},
     "output_type": "execute_result"
    }
   ],
   "source": [
    "import matplotlib\n",
    "import matplotlib.pyplot as plt\n",
    "import numpy as np\n",
    "import scipy as sp\n",
    "import scipy.signal as signal\n",
    "import random\n",
    "import keras\n",
    "from keras.callbacks import ModelCheckpoint, EarlyStopping\n",
    "from sklearn.model_selection import train_test_split\n",
    "from keras.models import Sequential, load_model, Model\n",
    "from keras.layers import Dense\n",
    "from keras.wrappers.scikit_learn import KerasRegressor\n",
    "from sklearn.model_selection import cross_val_score\n",
    "from sklearn.model_selection import KFold\n",
    "from sklearn.preprocessing import StandardScaler\n",
    "from sklearn.pipeline import Pipeline\n",
    "import utils\n",
    "import h5py\n",
    "import time\n",
    "from sklearn.preprocessing import MinMaxScaler\n",
    "\n",
    "from numpy.random import seed\n",
    "seed(5)\n",
    "from tensorflow import set_random_seed\n",
    "set_random_seed(7)\n",
    "'''\n",
    "Based on work by Federico De Guio: https://github.com/deguio/ML4DQM/blob/master/notebooks/Semi_Supervised/AE_ssl_random_hotdead_size.ipynb\n",
    "See: https://indico.cern.ch/event/783825/contributions/3261553/attachments/1789464/2914642/hcaldpg_fpga_ml_reco_01feb2019.pdf\n",
    "for possible implementation into FPGA\n",
    "'''"
   ]
  },
  {
   "cell_type": "code",
   "execution_count": 44,
   "metadata": {},
   "outputs": [],
   "source": [
    "scint_decays=np.linspace(15,50,10)\n",
    "ratios=np.linspace(-25,25,10)\n",
    "eventsperexperiment=500\n",
    "integration_vals=[1.25, 3.75, 6.25, 8.75, 11.25, 13.75, 16.25, 18.75, 21.25, 23.75, 26.25, 28.75, 31.25, 33.75, 36.25, 38.75, 41.25, 43.75, 46.25, 48.75, 51.25, 53.75, 56.25, 58.75, 61.25, 63.75, 66.25, 68.75, 71.25, 73.75, 76.25, 78.75, 81.25, 83.75, 86.25, 88.75, 91.25, 93.75, 96.25, 98.75, 101.25, 103.75, 106.25, 108.75, 111.25, 113.75, 116.25, 118.75, 121.25, 123.75, 126.25, 128.75, 131.25, 133.75, 136.25, 138.75, 141.25, 143.75, 146.25, 148.75, 151.25, 153.75, 156.25, 158.75, 161.25, 163.75, 166.25, 168.75, 171.25, 173.75, 176.25, 178.75, 181.25, 183.75, 186.25, 188.75, 191.25, 193.75, 196.25, 198.75, 201.25, 203.75, 206.25, 208.75, 211.25, 213.75, 216.25, 218.75, 221.25, 223.75, 226.25, 228.75, 231.25, 233.75, 236.25, 238.75, 241.25, 243.75, 246.25, 248.75]"
   ]
  },
  {
   "cell_type": "code",
   "execution_count": null,
   "metadata": {},
   "outputs": [],
   "source": []
  },
  {
   "cell_type": "code",
   "execution_count": null,
   "metadata": {},
   "outputs": [],
   "source": [
    "file=h5py.File('NarrowerParameterSpace500events5000photons100binsTestingLibrary.hdf5', 'r')\n",
    "X=[]\n",
    "Y=[]\n",
    "labels=[]\n",
    "\n",
    "for ratio in ratios:\n",
    "    for scint_decay in scint_decays:\n",
    "        tempX=[]\n",
    "        tempY=[]\n",
    "        templabels=[]\n",
    "        for i in range(eventsperexperiment):\n",
    "            label=\"/ratio\"+str(ratio)+\"scintdecay\"+str(scint_decay)+\"/ratio\"+str(ratio)+\"scintdecay\"+str(scint_decay)+\"event\"+str(i)+\"/ratio\"+str(ratio)+\"scintdecay\"+str(scint_decay)+\"event\"+str(i)\n",
    "            #print(label)\n",
    "            Xdata=file[label+\"input\"][:]\n",
    "            Ydata=file[label+\"output\"][:]\n",
    "            Xdata=np.asarray(Xdata)\n",
    "            #norm_factor=np.sum(Xdata)\n",
    "            norm_factor=np.trapz(Xdata, integration_vals)\n",
    "            Xdata_normalized=Xdata/norm_factor\n",
    "            tempX.append(Xdata_normalized)\n",
    "            #tempX.append(Xdata)\n",
    "            tempY.append(Ydata)\n",
    "            templabels.append(label)\n",
    "        X.append(tempX)\n",
    "        Y.append(tempY)\n",
    "        labels.append(templabels)\n",
    "\n",
    "file.close()\n",
    "X=np.asarray(X)\n",
    "Y=np.asarray(Y)"
   ]
  },
  {
   "cell_type": "code",
   "execution_count": 132,
   "metadata": {},
   "outputs": [
    {
     "name": "stdout",
     "output_type": "stream",
     "text": [
      "[0.03389772 0.9661024 ]\n"
     ]
    },
    {
     "data": {
      "image/png": "[encoded data removed]",
      "text/plain": [
       "<Figure size 432x288 with 1 Axes>"
      ]
     },
     "metadata": {},
     "output_type": "display_data"
    },
    {
     "data": {
      "image/png": "[encoded data removed]",
      "text/plain": [
       "<Figure size 432x288 with 1 Axes>"
      ]
     },
     "metadata": {},
     "output_type": "display_data"
    }
   ],
   "source": [
    "model=load_model('NarrowerParameterSpace500events10000photons100binsModel_20x20.hdf5')\n",
    "layer_outputs = [layer.output for layer in model.layers[:]]\n",
    "activation_model = Model(inputs=model.input, outputs=layer_outputs)\n",
    "\n",
    "plt.plot(X[0][0])\n",
    "one_input=X[0][0]\n",
    "one_input=np.array([one_input])\n",
    "activations = activation_model.predict(one_input)\n",
    "plt.figure()\n",
    "plt.plot(activations[0][0], 'bo')\n",
    "print(activations[1][0])"
   ]
  },
  {
   "cell_type": "code",
   "execution_count": null,
   "metadata": {},
   "outputs": [],
   "source": []
  },
  {
   "cell_type": "code",
   "execution_count": null,
   "metadata": {},
   "outputs": [],
   "source": []
  },
  {
   "cell_type": "code",
   "execution_count": null,
   "metadata": {},
   "outputs": [],
   "source": []
  },
  {
   "cell_type": "code",
   "execution_count": null,
   "metadata": {},
   "outputs": [],
   "source": []
  },
  {
   "cell_type": "code",
   "execution_count": 50,
   "metadata": {},
   "outputs": [],
   "source": [
    "file=h5py.File('NarrowerParameterSpace500events5000photons100binsTestingLibrary.hdf5', 'r')\n",
    "X2=[]\n",
    "Y2=[]\n",
    "labels2=[]\n",
    "\n",
    "for ratio in ratios:\n",
    "    for scint_decay in scint_decays:\n",
    "        tempX=[]\n",
    "        tempY=[]\n",
    "        templabels=[]\n",
    "        for i in range(eventsperexperiment):\n",
    "            label=\"/ratio\"+str(ratio)+\"scintdecay\"+str(scint_decay)+\"/ratio\"+str(ratio)+\"scintdecay\"+str(scint_decay)+\"event\"+str(i)+\"/ratio\"+str(ratio)+\"scintdecay\"+str(scint_decay)+\"event\"+str(i)\n",
    "            #print(label)\n",
    "            Xdata=file[label+\"input\"][:]\n",
    "            Ydata=file[label+\"output\"][:]\n",
    "            Xdata=np.asarray(Xdata)\n",
    "            norm_factor=np.sum(Xdata)\n",
    "            Xdata_normalized=Xdata/norm_factor\n",
    "            tempX.append(Xdata_normalized)\n",
    "            #tempX.append(Xdata)\n",
    "            tempY.append(Ydata)\n",
    "            templabels.append(label)\n",
    "        X2.append(tempX)\n",
    "        Y2.append(tempY)\n",
    "        labels2.append(templabels)\n",
    "\n",
    "file.close()\n",
    "X2=np.asarray(X2)\n",
    "Y2=np.asarray(Y2)"
   ]
  },
  {
   "cell_type": "code",
   "execution_count": 131,
   "metadata": {},
   "outputs": [
    {
     "name": "stdout",
     "output_type": "stream",
     "text": [
      "[0.03361365 0.96493626]\n"
     ]
    },
    {
     "data": {
      "image/png": "[encoded data removed]",
      "text/plain": [
       "<Figure size 432x288 with 1 Axes>"
      ]
     },
     "metadata": {},
     "output_type": "display_data"
    },
    {
     "data": {
      "image/png": "[encoded data removed]",
      "text/plain": [
       "<Figure size 432x288 with 1 Axes>"
      ]
     },
     "metadata": {},
     "output_type": "display_data"
    }
   ],
   "source": [
    "model=load_model('NarrowerParameterSpace500events10000photons100binsModel_20x20_normalized_bytotal.hdf5')\n",
    "layer_outputs = [layer.output for layer in model.layers[:]]\n",
    "activation_model = Model(inputs=model.input, outputs=layer_outputs)\n",
    "\n",
    "plt.plot(X2[0][0])\n",
    "one_input=X2[0][0]\n",
    "one_input=np.array([one_input])\n",
    "activations = activation_model.predict(one_input)\n",
    "plt.figure()\n",
    "plt.plot(activations[0][0], 'bo')\n",
    "print(activations[1][0])"
   ]
  },
  {
   "cell_type": "code",
   "execution_count": 9,
   "metadata": {},
   "outputs": [],
   "source": []
  },
  {
   "cell_type": "code",
   "execution_count": null,
   "metadata": {},
   "outputs": [],
   "source": []
  },
  {
   "cell_type": "code",
   "execution_count": 11,
   "metadata": {},
   "outputs": [],
   "source": []
  },
  {
   "cell_type": "code",
   "execution_count": null,
   "metadata": {},
   "outputs": [],
   "source": []
  },
  {
   "cell_type": "code",
   "execution_count": 54,
   "metadata": {},
   "outputs": [],
   "source": [
    "file=h5py.File('NarrowerParameterSpace500events5000photons100binsTestingLibrary.hdf5', 'r')\n",
    "X3=[]\n",
    "Y3=[]\n",
    "labels3=[]\n",
    "\n",
    "for ratio in ratios:\n",
    "    for scint_decay in scint_decays:\n",
    "        tempX=[]\n",
    "        tempY=[]\n",
    "        templabels=[]\n",
    "        for i in range(eventsperexperiment):\n",
    "            label=\"/ratio\"+str(ratio)+\"scintdecay\"+str(scint_decay)+\"/ratio\"+str(ratio)+\"scintdecay\"+str(scint_decay)+\"event\"+str(i)+\"/ratio\"+str(ratio)+\"scintdecay\"+str(scint_decay)+\"event\"+str(i)\n",
    "            #print(label)\n",
    "            Xdata=file[label+\"input\"][:]\n",
    "            Ydata=file[label+\"output\"][:]\n",
    "            norm_factor=max(Xdata)\n",
    "            Xdata=np.asarray(Xdata)\n",
    "            Xdata_normalized=Xdata/norm_factor\n",
    "            tempX.append(Xdata_normalized)\n",
    "            #tempX.append(Xdata)\n",
    "            tempY.append(Ydata)\n",
    "            templabels.append(label)\n",
    "        X3.append(tempX)\n",
    "        Y3.append(tempY)\n",
    "        labels3.append(templabels)\n",
    "\n",
    "file.close()\n",
    "X3=np.asarray(X3)\n",
    "Y3=np.asarray(Y3)"
   ]
  },
  {
   "cell_type": "code",
   "execution_count": 130,
   "metadata": {},
   "outputs": [
    {
     "name": "stdout",
     "output_type": "stream",
     "text": [
      "[0.        0.9758417]\n"
     ]
    },
    {
     "data": {
      "image/png": "[encoded data removed]",
      "text/plain": [
       "<Figure size 432x288 with 1 Axes>"
      ]
     },
     "metadata": {},
     "output_type": "display_data"
    },
    {
     "data": {
      "image/png": "[encoded data removed]",
      "text/plain": [
       "<Figure size 432x288 with 1 Axes>"
      ]
     },
     "metadata": {},
     "output_type": "display_data"
    }
   ],
   "source": [
    "model=load_model('NarrowerParameterSpace500events10000photons100binsModel_20x20_normalized_max.hdf5')\n",
    "layer_outputs = [layer.output for layer in model.layers[:]]\n",
    "activation_model = Model(inputs=model.input, outputs=layer_outputs)\n",
    "\n",
    "plt.plot(X3[0][0])\n",
    "one_input=X3[0][0]\n",
    "one_input=np.array([one_input])\n",
    "activations = activation_model.predict(one_input)\n",
    "plt.figure()\n",
    "plt.plot(activations[0][0], 'bo')\n",
    "print(activations[1][0])"
   ]
  },
  {
   "cell_type": "code",
   "execution_count": null,
   "metadata": {},
   "outputs": [],
   "source": []
  },
  {
   "cell_type": "code",
   "execution_count": null,
   "metadata": {},
   "outputs": [],
   "source": []
  },
  {
   "cell_type": "code",
   "execution_count": 118,
   "metadata": {},
   "outputs": [],
   "source": []
  },
  {
   "cell_type": "code",
   "execution_count": 129,
   "metadata": {},
   "outputs": [
    {
     "name": "stdout",
     "output_type": "stream",
     "text": [
      "[-0.32142004 -0.3708767  -0.3153396  -0.3516706  -0.3163595  -0.33553398\n",
      " -0.31215665 -0.3138669  -0.08266699  0.06858827]\n",
      "[0.04480816 0.95519185]\n"
     ]
    },
    {
     "data": {
      "image/png": "[encoded data removed]",
      "text/plain": [
       "<Figure size 432x288 with 2 Axes>"
      ]
     },
     "metadata": {},
     "output_type": "display_data"
    },
    {
     "data": {
      "image/png": "[encoded data removed]",
      "text/plain": [
       "<Figure size 432x288 with 2 Axes>"
      ]
     },
     "metadata": {},
     "output_type": "display_data"
    }
   ],
   "source": [
    "model=load_model('NarrowerParameterSpace500events10000photons100binsModel_20x20.hdf5')\n",
    "\n",
    "weights=[]\n",
    "for layer in model.layers:\n",
    "    weight=layer.get_weights()\n",
    "    weights.append(weight)\n",
    "plt.imshow(weights[0][0], aspect='auto')\n",
    "plt.colorbar()\n",
    "print(weights[0][1])\n",
    "plt.figure()\n",
    "plt.imshow(weights[1][0])\n",
    "plt.colorbar()\n",
    "print(weights[1][1])"
   ]
  },
  {
   "cell_type": "code",
   "execution_count": null,
   "metadata": {},
   "outputs": [],
   "source": []
  },
  {
   "cell_type": "code",
   "execution_count": null,
   "metadata": {},
   "outputs": [],
   "source": []
  },
  {
   "cell_type": "code",
   "execution_count": 127,
   "metadata": {},
   "outputs": [
    {
     "name": "stdout",
     "output_type": "stream",
     "text": [
      "[-0.35069603 -0.38090944 -0.4370444  -0.4370444  -0.52643913 -0.5244423\n",
      " -0.5244423  -0.39174363 -0.5972353  -0.20368525]\n",
      "[-0.00183958 -0.04402029]\n"
     ]
    },
    {
     "data": {
      "image/png": "[encoded data removed]",
      "text/plain": [
       "<Figure size 432x288 with 2 Axes>"
      ]
     },
     "metadata": {},
     "output_type": "display_data"
    },
    {
     "data": {
      "image/png": "[encoded data removed]",
      "text/plain": [
       "<Figure size 432x288 with 2 Axes>"
      ]
     },
     "metadata": {},
     "output_type": "display_data"
    }
   ],
   "source": [
    "model=load_model('NarrowerParameterSpace500events10000photons100binsModel_20x20_normalized_bytotal.hdf5')\n",
    "weights=[]\n",
    "for layer in model.layers:\n",
    "    weight=layer.get_weights()\n",
    "    weights.append(weight)\n",
    "plt.imshow(weights[0][0], aspect='auto')\n",
    "plt.colorbar()\n",
    "print(weights[0][1])\n",
    "plt.figure()\n",
    "plt.imshow(weights[1][0])\n",
    "plt.colorbar()\n",
    "print(weights[1][1])"
   ]
  },
  {
   "cell_type": "code",
   "execution_count": null,
   "metadata": {},
   "outputs": [],
   "source": []
  },
  {
   "cell_type": "code",
   "execution_count": null,
   "metadata": {},
   "outputs": [],
   "source": []
  },
  {
   "cell_type": "code",
   "execution_count": 128,
   "metadata": {},
   "outputs": [
    {
     "name": "stdout",
     "output_type": "stream",
     "text": [
      "[-0.92211103 -0.922111   -0.922111   -0.922111   -0.7161005  -0.7161005\n",
      " -0.7161005  -0.54124475 -0.5861053  -0.5663683 ]\n",
      "[-1.7792888  0.0469823]\n"
     ]
    },
    {
     "data": {
      "image/png": "[encoded data removed]",
      "text/plain": [
       "<Figure size 432x288 with 2 Axes>"
      ]
     },
     "metadata": {},
     "output_type": "display_data"
    },
    {
     "data": {
      "image/png": "[encoded data removed]",
      "text/plain": [
       "<Figure size 432x288 with 2 Axes>"
      ]
     },
     "metadata": {},
     "output_type": "display_data"
    }
   ],
   "source": [
    "model=load_model('NarrowerParameterSpace500events10000photons100binsModel_20x20_normalized_max.hdf5')\n",
    "weights=[]\n",
    "for layer in model.layers:\n",
    "    weight=layer.get_weights()\n",
    "    weights.append(weight)\n",
    "plt.imshow(weights[0][0], aspect='auto')\n",
    "plt.colorbar()\n",
    "print(weights[0][1])\n",
    "plt.figure()\n",
    "plt.imshow(weights[1][0])\n",
    "plt.colorbar()\n",
    "print(weights[1][1])"
   ]
  },
  {
   "cell_type": "code",
   "execution_count": null,
   "metadata": {},
   "outputs": [],
   "source": []
  },
  {
   "cell_type": "code",
   "execution_count": null,
   "metadata": {},
   "outputs": [],
   "source": []
  },
  {
   "cell_type": "code",
   "execution_count": null,
   "metadata": {},
   "outputs": [],
   "source": []
  }
 ],
 "metadata": {
  "kernelspec": {
   "display_name": "Python 3",
   "language": "python",
   "name": "python3"
  },
  "language_info": {
   "codemirror_mode": {
    "name": "ipython",
    "version": 3
   },
   "file_extension": ".py",
   "mimetype": "text/x-python",
   "name": "python",
   "nbconvert_exporter": "python",
   "pygments_lexer": "ipython3",
   "version": "3.6.5"
  }
 },
 "nbformat": 4,
 "nbformat_minor": 2
}
