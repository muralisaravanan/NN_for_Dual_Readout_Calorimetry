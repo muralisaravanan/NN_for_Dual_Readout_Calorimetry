{
 "cells": [
  {
   "cell_type": "code",
   "execution_count": 1,
   "metadata": {},
   "outputs": [
    {
     "name": "stderr",
     "output_type": "stream",
     "text": [
      "Using TensorFlow backend.\n"
     ]
    }
   ],
   "source": [
    "import os\n",
    "import numpy as np\n",
    "import matplotlib.pyplot as plt\n",
    "import h5py\n",
    "import scipy.integrate\n",
    "import scipy as sp\n",
    "import matplotlib\n",
    "import matplotlib.pyplot as plt\n",
    "import numpy as np\n",
    "import scipy as sp\n",
    "import scipy.signal as signal\n",
    "import random\n",
    "import keras\n",
    "from keras.callbacks import ModelCheckpoint, EarlyStopping\n",
    "from sklearn.model_selection import train_test_split\n",
    "from keras.models import Sequential, load_model\n",
    "from keras.layers import Dense\n",
    "from keras.wrappers.scikit_learn import KerasRegressor\n",
    "from sklearn.model_selection import cross_val_score\n",
    "from sklearn.model_selection import KFold\n",
    "from sklearn.preprocessing import StandardScaler\n",
    "from sklearn.pipeline import Pipeline\n",
    "import utils\n",
    "import h5py\n",
    "import time\n",
    "from sklearn.preprocessing import MinMaxScaler"
   ]
  },
  {
   "cell_type": "code",
   "execution_count": 2,
   "metadata": {},
   "outputs": [],
   "source": [
    "def fit_func(x, A, B, tau_1, tau_2):\n",
    "    return A*np.exp(-(x)/tau_1) +B*np.exp(-(x)/tau_2)\n",
    "\n",
    "\n",
    "class DataObject:\n",
    "\n",
    "    \n",
    "    \n",
    "    def __init__(self, filename):\n",
    "        self.dt=0.4\n",
    "        self.file=h5py.File(filename,'r')\n",
    "        \n",
    "        self.channel_2_raw_waveforms=self.get_channel_2_raw_waveforms(self.file)\n",
    "        self.file.close()\n",
    "        self.channel_2_cut_waveforms, self.half_max_indices, self.min_of_half_max_indices, self.cut_indices=self.get_half_max_indices(self.channel_2_raw_waveforms)\n",
    "        \n",
    "        self.lengths=[]\n",
    "        \n",
    "        for i in range(len(self.channel_2_cut_waveforms)):\n",
    "            self.lengths.append(len(self.channel_2_cut_waveforms[i][self.cut_indices[i]:]))\n",
    "        \n",
    "        \n",
    "        self.min_length=min(self.lengths)\n",
    "        \n",
    "        \n",
    "        self.cerenkov_start=4\n",
    "        self.cerenkov_end=10\n",
    "        self.channel_2_aligned_waveforms=self.get_channel_2_aligned_waveforms()\n",
    "        self.channel_2_aligned_waveforms_avg=np.mean(self.channel_2_aligned_waveforms, axis=0)\n",
    "        \n",
    "        self.prelim_percentages, self.adjusted_percentages=self.get_percentages()\n",
    "    \n",
    "    \n",
    "    def get_channel_2_raw_waveforms(self, file):\n",
    "        data = file.get('data')\n",
    "        data=np.asarray(data)\n",
    "        digitizer_arrays=[]\n",
    "        \n",
    "        for val in data:\n",
    "            digitizer_arrays.append(val[3][:8192]) #8 channels with 1,024 samples each\n",
    "        \n",
    "        digitizer_arrays=np.asarray(digitizer_arrays)\n",
    "        channel_2_raw_waveforms=[]\n",
    "        for array in digitizer_arrays:\n",
    "            pedestal=array[2048]\n",
    "            channel_2_raw_waveforms.append(-array[2048:3072]+pedestal)\n",
    "        \n",
    "        channel_2_raw_waveforms=np.asarray(channel_2_raw_waveforms)\n",
    "        \n",
    "        return channel_2_raw_waveforms\n",
    "    \n",
    "    def get_half_max_indices(self, channel_2_raw_waveforms):\n",
    "        channel_2_cut_waveforms=[]\n",
    "        half_max_indices=[]\n",
    "        for array in channel_2_raw_waveforms:\n",
    "            max_val=np.max(array)\n",
    "            max_val_index=array.argmax()\n",
    "            \n",
    "            half_val=max_val/2\n",
    "            try:\n",
    "                idx = (np.abs(array[:max_val_index] - half_val)).argmin()\n",
    "                if idx < 200 and idx>100 and (np.abs(max_val_index-idx)<15) and (max_val>0.05):\n",
    "\n",
    "                    half_max_indices.append(idx)\n",
    "                    channel_2_cut_waveforms.append(array)\n",
    "            except ValueError:\n",
    "                pass\n",
    "        channel_2_cut_waveforms=np.asarray(channel_2_cut_waveforms)\n",
    "        \n",
    "        \n",
    "       \n",
    "        min_of_half_max_indices=min(half_max_indices)\n",
    "        cut_indices=[]\n",
    "        \n",
    "        for i in half_max_indices:\n",
    "            cut_indices.append(i-min_of_half_max_indices)\n",
    "            \n",
    "        return channel_2_cut_waveforms, half_max_indices, min_of_half_max_indices, cut_indices\n",
    "    \n",
    "    def get_intermediate_output(self):\n",
    "        return [self.channel_2_cut_waveforms, self.half_max_indices, self.min_of_half_max_indices, self.min_length]\n",
    "    \n",
    " \n",
    "    def get_channel_2_aligned_waveforms(self): #, min_of_half_max_indices, min_length):\n",
    "        self.min_of_half_max_indices=101\n",
    "        self.min_length=927\n",
    "        cut_indices=[]\n",
    "        \n",
    "        for i in self.half_max_indices:\n",
    "            cut_indices.append(i-self.min_of_half_max_indices)\n",
    "        \n",
    "        channel_2_aligned_waveforms=[]\n",
    "        for i, array in enumerate(self.channel_2_cut_waveforms):\n",
    "\n",
    "            aligned_array=array[cut_indices[i]:cut_indices[i]+self.min_length]\n",
    "            channel_2_aligned_waveforms.append(aligned_array)\n",
    "        \n",
    "        channel_2_aligned_waveforms=np.asarray(channel_2_aligned_waveforms)\n",
    "        return channel_2_aligned_waveforms\n",
    "    \n",
    "    def get_percentages(self):\n",
    "        \n",
    "        #calculating the extra factor\n",
    "        xdata=np.arange(0,self.min_length*self.dt,self.dt)\n",
    "        ydata=self.channel_2_aligned_waveforms_avg\n",
    "\n",
    "        popt, pcov = sp.optimize.curve_fit(fit_func, xdata[self.min_of_half_max_indices+self.cerenkov_end:], ydata[self.min_of_half_max_indices+self.cerenkov_end:] , p0=(0.26, 0.74,55,145))\n",
    "        yvals=fit_func(xdata[:], *popt)\n",
    "\n",
    "        b=sp.integrate.trapz(yvals[self.min_of_half_max_indices+self.cerenkov_end:], xdata[self.min_of_half_max_indices+self.cerenkov_end:])\n",
    "        c=sp.integrate.trapz(yvals[self.min_of_half_max_indices-self.cerenkov_start:], xdata[self.min_of_half_max_indices-self.cerenkov_start:])\n",
    "        self.adjustment_factor=b/c\n",
    "        \n",
    "        prelim_percentages=[]\n",
    "        adjusted_percentages=[]\n",
    "        for array in self.channel_2_aligned_waveforms:\n",
    "    \n",
    "            cerenkov=np.trapz(array[self.min_of_half_max_indices-self.cerenkov_start:self.min_of_half_max_indices+self.cerenkov_end], dx=self.dt)\n",
    "            scint=np.trapz(array[self.min_of_half_max_indices+self.cerenkov_end:], dx=self.dt)\n",
    "            adjusted_cerenkov=cerenkov-(scint*((1/self.adjustment_factor)-1))\n",
    "            adjusted_scint=scint/self.adjustment_factor\n",
    "            #total=adjusted_cerenkov+adjusted_scint\n",
    "            prelim_percentages.append([cerenkov, scint])\n",
    "            adjusted_percentages.append([adjusted_cerenkov, adjusted_scint])\n",
    "        \n",
    "        prelim_percentages=np.asarray(prelim_percentages)\n",
    "        adjusted_percentages=np.asarray(adjusted_percentages)\n",
    "        return prelim_percentages, adjusted_percentages\n",
    "    \n",
    "    def final_output(self):\n",
    "        return [self.channel_2_aligned_waveforms, self.adjusted_percentages]\n",
    "        "
   ]
  },
  {
   "cell_type": "code",
   "execution_count": 3,
   "metadata": {},
   "outputs": [],
   "source": [
    "def model_creator():\n",
    "    model = Sequential()\n",
    "    #model.add(Dense(50,  input_shape=(300,), kernel_initializer='normal', activation='relu'))\n",
    "    model.add(Dense(10, input_shape=(927,), kernel_initializer='ones', activation='relu'))\n",
    "    model.add(Dense(2, kernel_initializer='ones', activation='relu'))\n",
    "# Compile model\n",
    "    model.compile(loss='mean_squared_error', optimizer='adam')\n",
    "    return model\n",
    "\n",
    "def model_trainer(model_name, pre_X, Y):\n",
    "    model=model_creator()\n",
    "        \n",
    "    \n",
    "\n",
    "    Y=np.asarray(Y)\n",
    "    \n",
    "    X=np.asarray(pre_X)\n",
    "    \n",
    "    norm_factor=np.amax(X)\n",
    "    X_scaled=X/norm_factor\n",
    "    Xtrain, Xval, Ytrain, Yval = train_test_split(X_scaled, Y, test_size=0.2, random_state=42)\n",
    "    checkpointer = ModelCheckpoint(filepath=model_name+\"weights.hdf5\",verbose=3, save_best_only=True)\n",
    "    earlystop= EarlyStopping(monitor='val_loss', min_delta=0, patience=20 ,verbose=1, mode='auto')\n",
    "    history=model.fit(Xtrain,Ytrain,epochs=200,verbose=1\n",
    "                             ,validation_data=(Xval,Yval)\n",
    "                             ,shuffle=True, batch_size=16\n",
    "                             ,callbacks=[earlystop,checkpointer])\n",
    "    model.save(model_name)\n",
    "    return model, history\n",
    "\n",
    "\n",
    "\n",
    "def model_verifier(model_name, runs):\n",
    "    model=load_model(model_name)\n",
    "    output_dict={}\n",
    "    for run in runs:\n",
    "        prediction=model.predict(data_dict[run][1])\n",
    "        percent_difference=(2*(prediction-data_dict[run][2])/(prediction+data_dict[run][2]))\n",
    "        percent_difference_avg=np.mean(percent_difference, axis=0)\n",
    "        output_dict[run]=percent_difference_avg\n",
    "    \n",
    "    return output_dict"
   ]
  },
  {
   "cell_type": "code",
   "execution_count": null,
   "metadata": {},
   "outputs": [],
   "source": []
  },
  {
   "cell_type": "code",
   "execution_count": null,
   "metadata": {},
   "outputs": [],
   "source": []
  },
  {
   "cell_type": "code",
   "execution_count": null,
   "metadata": {},
   "outputs": [],
   "source": []
  },
  {
   "cell_type": "code",
   "execution_count": null,
   "metadata": {},
   "outputs": [],
   "source": []
  },
  {
   "cell_type": "code",
   "execution_count": null,
   "metadata": {},
   "outputs": [],
   "source": []
  },
  {
   "cell_type": "code",
   "execution_count": null,
   "metadata": {},
   "outputs": [],
   "source": []
  },
  {
   "cell_type": "code",
   "execution_count": 17,
   "metadata": {},
   "outputs": [],
   "source": [
    "runs=['6292', '6337']#['6292', '6311', '6314', '6330', '6337']\n",
    "\n",
    "X=None\n",
    "Y=None\n",
    "\n",
    "data_dict={}\n",
    "\n",
    "for run in runs:\n",
    "    \n",
    "    d=DataObject('D:\\\\Murali Backup\\\\Documents\\\\15-Cornell-3rd-year\\\\2nd-Semester\\\\Pulse_Generation_and_Neural_Net\\\\Workspace\\\\Dual_Readout_Calorimetry\\\\Real_Data\\\\beamline_data\\\\Real_Data\\\\' + run + '_skimTree.hdf5')\n",
    "    output_list=d.final_output()\n",
    "    Xtrain, Xval, Ytrain, Yval = train_test_split(output_list[0], output_list[1], test_size=0.2, random_state=42)\n",
    "    data_dict[run]=[d, Xval, Yval]\n",
    "    #print(len(Xtrain))\n",
    "    #print(len(Xval))\n",
    "    \n",
    "    \n",
    "    if X is None and Y is None:\n",
    "        X=Xtrain\n",
    "        Y=Ytrain\n",
    "        #print('h')\n",
    "        \n",
    "    else:\n",
    "        X=np.concatenate((X, Xtrain))\n",
    "        Y=np.concatenate((Y, Ytrain))\n",
    "        #print('p')"
   ]
  },
  {
   "cell_type": "code",
   "execution_count": null,
   "metadata": {},
   "outputs": [],
   "source": []
  },
  {
   "cell_type": "code",
   "execution_count": null,
   "metadata": {},
   "outputs": [],
   "source": []
  },
  {
   "cell_type": "code",
   "execution_count": 18,
   "metadata": {},
   "outputs": [
    {
     "name": "stdout",
     "output_type": "stream",
     "text": [
      "Train on 51401 samples, validate on 12851 samples\n",
      "Epoch 1/200\n",
      "51401/51401 [==============================] - 6s 110us/step - loss: 2667.6348 - val_loss: 16.3433\n",
      "\n",
      "Epoch 00001: val_loss improved from inf to 16.34326, saving model to v3_secondtry_6292_6337.hdf5weights.hdf5\n",
      "Epoch 2/200\n",
      "51401/51401 [==============================] - 6s 121us/step - loss: 4.3148 - val_loss: 0.9722\n",
      "\n",
      "Epoch 00002: val_loss improved from 16.34326 to 0.97215, saving model to v3_secondtry_6292_6337.hdf5weights.hdf5\n",
      "Epoch 3/200\n",
      "51401/51401 [==============================] - 5s 100us/step - loss: 0.6464 - val_loss: 0.4176\n",
      "\n",
      "Epoch 00003: val_loss improved from 0.97215 to 0.41760, saving model to v3_secondtry_6292_6337.hdf5weights.hdf5\n",
      "Epoch 4/200\n",
      "51401/51401 [==============================] - 5s 106us/step - loss: 0.2153 - val_loss: 0.0541\n",
      "\n",
      "Epoch 00004: val_loss improved from 0.41760 to 0.05409, saving model to v3_secondtry_6292_6337.hdf5weights.hdf5\n",
      "Epoch 5/200\n",
      "51401/51401 [==============================] - 5s 95us/step - loss: 0.0600 - val_loss: 0.0364\n",
      "\n",
      "Epoch 00005: val_loss improved from 0.05409 to 0.03636, saving model to v3_secondtry_6292_6337.hdf5weights.hdf5\n",
      "Epoch 6/200\n",
      "51401/51401 [==============================] - 5s 90us/step - loss: 0.0475 - val_loss: 0.0223\n",
      "\n",
      "Epoch 00006: val_loss improved from 0.03636 to 0.02233, saving model to v3_secondtry_6292_6337.hdf5weights.hdf5\n",
      "Epoch 7/200\n",
      "51401/51401 [==============================] - 5s 95us/step - loss: 0.0355 - val_loss: 0.0155\n",
      "\n",
      "Epoch 00007: val_loss improved from 0.02233 to 0.01550, saving model to v3_secondtry_6292_6337.hdf5weights.hdf5\n",
      "Epoch 8/200\n",
      "51401/51401 [==============================] - 5s 94us/step - loss: 0.0329 - val_loss: 0.0150\n",
      "\n",
      "Epoch 00008: val_loss improved from 0.01550 to 0.01498, saving model to v3_secondtry_6292_6337.hdf5weights.hdf5\n",
      "Epoch 9/200\n",
      "51401/51401 [==============================] - 5s 91us/step - loss: 0.0319 - val_loss: 0.0120\n",
      "\n",
      "Epoch 00009: val_loss improved from 0.01498 to 0.01197, saving model to v3_secondtry_6292_6337.hdf5weights.hdf5\n",
      "Epoch 10/200\n",
      "51401/51401 [==============================] - 5s 102us/step - loss: 0.0266 - val_loss: 0.0086\n",
      "\n",
      "Epoch 00010: val_loss improved from 0.01197 to 0.00859, saving model to v3_secondtry_6292_6337.hdf5weights.hdf5\n",
      "Epoch 11/200\n",
      "51401/51401 [==============================] - 5s 99us/step - loss: 0.0259 - val_loss: 0.0085\n",
      "\n",
      "Epoch 00011: val_loss improved from 0.00859 to 0.00851, saving model to v3_secondtry_6292_6337.hdf5weights.hdf5\n",
      "Epoch 12/200\n",
      "51401/51401 [==============================] - 5s 93us/step - loss: 0.0259 - val_loss: 0.0085\n",
      "\n",
      "Epoch 00012: val_loss improved from 0.00851 to 0.00848, saving model to v3_secondtry_6292_6337.hdf5weights.hdf5\n",
      "Epoch 13/200\n",
      "51401/51401 [==============================] - 5s 92us/step - loss: 0.0259 - val_loss: 0.0085\n",
      "\n",
      "Epoch 00013: val_loss improved from 0.00848 to 0.00847, saving model to v3_secondtry_6292_6337.hdf5weights.hdf5\n",
      "Epoch 14/200\n",
      "51401/51401 [==============================] - 5s 95us/step - loss: 0.0259 - val_loss: 0.0085\n",
      "\n",
      "Epoch 00014: val_loss did not improve from 0.00847\n",
      "Epoch 15/200\n",
      "51401/51401 [==============================] - 5s 91us/step - loss: 0.0258 - val_loss: 0.0085\n",
      "\n",
      "Epoch 00015: val_loss did not improve from 0.00847\n",
      "Epoch 16/200\n",
      "51401/51401 [==============================] - 5s 100us/step - loss: 0.0258 - val_loss: 0.0085\n",
      "\n",
      "Epoch 00016: val_loss improved from 0.00847 to 0.00846, saving model to v3_secondtry_6292_6337.hdf5weights.hdf5\n",
      "Epoch 17/200\n",
      "51401/51401 [==============================] - 5s 91us/step - loss: 0.0258 - val_loss: 0.0084\n",
      "\n",
      "Epoch 00017: val_loss improved from 0.00846 to 0.00844, saving model to v3_secondtry_6292_6337.hdf5weights.hdf5\n",
      "Epoch 18/200\n",
      "51401/51401 [==============================] - 5s 101us/step - loss: 0.0258 - val_loss: 0.0085\n",
      "\n",
      "Epoch 00018: val_loss did not improve from 0.00844\n",
      "Epoch 19/200\n",
      "51401/51401 [==============================] - 5s 103us/step - loss: 0.0258 - val_loss: 0.0084\n",
      "\n",
      "Epoch 00019: val_loss improved from 0.00844 to 0.00844, saving model to v3_secondtry_6292_6337.hdf5weights.hdf5\n",
      "Epoch 20/200\n",
      "51401/51401 [==============================] - 5s 103us/step - loss: 0.0258 - val_loss: 0.0084\n",
      "\n",
      "Epoch 00020: val_loss improved from 0.00844 to 0.00843, saving model to v3_secondtry_6292_6337.hdf5weights.hdf5\n",
      "Epoch 21/200\n",
      "51401/51401 [==============================] - 5s 95us/step - loss: 0.0258 - val_loss: 0.0084\n",
      "\n",
      "Epoch 00021: val_loss improved from 0.00843 to 0.00843, saving model to v3_secondtry_6292_6337.hdf5weights.hdf5\n",
      "Epoch 22/200\n",
      "51401/51401 [==============================] - 5s 104us/step - loss: 0.0258 - val_loss: 0.0084\n",
      "\n",
      "Epoch 00022: val_loss did not improve from 0.00843\n",
      "Epoch 23/200\n",
      "51401/51401 [==============================] - 5s 91us/step - loss: 0.0258 - val_loss: 0.0084\n",
      "\n",
      "Epoch 00023: val_loss improved from 0.00843 to 0.00843, saving model to v3_secondtry_6292_6337.hdf5weights.hdf5\n",
      "Epoch 24/200\n",
      "51401/51401 [==============================] - 5s 96us/step - loss: 0.0258 - val_loss: 0.0084\n",
      "\n",
      "Epoch 00024: val_loss did not improve from 0.00843\n",
      "Epoch 25/200\n",
      "51401/51401 [==============================] - 5s 92us/step - loss: 0.0258 - val_loss: 0.0084\n",
      "\n",
      "Epoch 00025: val_loss improved from 0.00843 to 0.00842, saving model to v3_secondtry_6292_6337.hdf5weights.hdf5\n",
      "Epoch 26/200\n",
      "51401/51401 [==============================] - 5s 93us/step - loss: 0.0258 - val_loss: 0.0084\n",
      "\n",
      "Epoch 00026: val_loss improved from 0.00842 to 0.00842, saving model to v3_secondtry_6292_6337.hdf5weights.hdf5\n",
      "Epoch 27/200\n",
      "51401/51401 [==============================] - 5s 91us/step - loss: 0.0258 - val_loss: 0.0084\n",
      "\n",
      "Epoch 00027: val_loss did not improve from 0.00842\n",
      "Epoch 28/200\n",
      "51401/51401 [==============================] - 5s 103us/step - loss: 0.0258 - val_loss: 0.0085\n",
      "\n",
      "Epoch 00028: val_loss did not improve from 0.00842\n",
      "Epoch 29/200\n",
      "51401/51401 [==============================] - 5s 90us/step - loss: 0.0258 - val_loss: 0.0084\n",
      "\n",
      "Epoch 00029: val_loss did not improve from 0.00842\n",
      "Epoch 30/200\n",
      "51401/51401 [==============================] - 5s 90us/step - loss: 0.0258 - val_loss: 0.0084\n",
      "\n",
      "Epoch 00030: val_loss did not improve from 0.00842\n",
      "Epoch 31/200\n",
      "51401/51401 [==============================] - 5s 92us/step - loss: 0.0258 - val_loss: 0.0084\n",
      "\n",
      "Epoch 00031: val_loss did not improve from 0.00842\n",
      "Epoch 32/200\n",
      "51401/51401 [==============================] - 5s 99us/step - loss: 0.0258 - val_loss: 0.0084\n",
      "\n",
      "Epoch 00032: val_loss did not improve from 0.00842\n",
      "Epoch 33/200\n",
      "51401/51401 [==============================] - 5s 92us/step - loss: 0.0258 - val_loss: 0.0084\n",
      "\n",
      "Epoch 00033: val_loss did not improve from 0.00842\n",
      "Epoch 34/200\n",
      "51401/51401 [==============================] - 5s 102us/step - loss: 0.0258 - val_loss: 0.0084\n",
      "\n",
      "Epoch 00034: val_loss did not improve from 0.00842\n",
      "Epoch 35/200\n",
      "51401/51401 [==============================] - 5s 90us/step - loss: 0.0258 - val_loss: 0.0085\n",
      "\n",
      "Epoch 00035: val_loss did not improve from 0.00842\n",
      "Epoch 36/200\n",
      "51401/51401 [==============================] - 5s 91us/step - loss: 0.0258 - val_loss: 0.0084\n",
      "\n",
      "Epoch 00036: val_loss did not improve from 0.00842\n",
      "Epoch 37/200\n",
      "51401/51401 [==============================] - 5s 91us/step - loss: 0.0258 - val_loss: 0.0084\n",
      "\n",
      "Epoch 00037: val_loss did not improve from 0.00842\n",
      "Epoch 38/200\n",
      "51401/51401 [==============================] - 5s 90us/step - loss: 0.0258 - val_loss: 0.0084\n",
      "\n",
      "Epoch 00038: val_loss did not improve from 0.00842\n",
      "Epoch 39/200\n",
      "51401/51401 [==============================] - 5s 91us/step - loss: 0.0258 - val_loss: 0.0084\n",
      "\n",
      "Epoch 00039: val_loss did not improve from 0.00842\n",
      "Epoch 40/200\n",
      "51401/51401 [==============================] - 5s 90us/step - loss: 0.0258 - val_loss: 0.0084\n",
      "\n",
      "Epoch 00040: val_loss did not improve from 0.00842\n",
      "Epoch 41/200\n",
      "51401/51401 [==============================] - 5s 99us/step - loss: 0.0258 - val_loss: 0.0084\n",
      "\n",
      "Epoch 00041: val_loss did not improve from 0.00842\n",
      "Epoch 42/200\n",
      "51401/51401 [==============================] - 5s 89us/step - loss: 0.0258 - val_loss: 0.0084\n",
      "\n",
      "Epoch 00042: val_loss did not improve from 0.00842\n",
      "Epoch 43/200\n",
      "51401/51401 [==============================] - 5s 91us/step - loss: 0.0258 - val_loss: 0.0084\n",
      "\n",
      "Epoch 00043: val_loss did not improve from 0.00842\n",
      "Epoch 44/200\n"
     ]
    },
    {
     "name": "stdout",
     "output_type": "stream",
     "text": [
      "51401/51401 [==============================] - 4s 82us/step - loss: 0.0258 - val_loss: 0.0085\n",
      "\n",
      "Epoch 00044: val_loss did not improve from 0.00842\n",
      "Epoch 45/200\n",
      "51401/51401 [==============================] - 4s 86us/step - loss: 0.0258 - val_loss: 0.0084\n",
      "\n",
      "Epoch 00045: val_loss did not improve from 0.00842\n",
      "Epoch 46/200\n",
      "51401/51401 [==============================] - 5s 92us/step - loss: 0.0258 - val_loss: 0.0084\n",
      "\n",
      "Epoch 00046: val_loss did not improve from 0.00842\n",
      "Epoch 00046: early stopping\n"
     ]
    }
   ],
   "source": [
    "model, history=model_trainer('v3_secondtry_6292_6337.hdf5',X,Y)\n",
    "\n",
    "\n",
    "\n"
   ]
  },
  {
   "cell_type": "code",
   "execution_count": 15,
   "metadata": {},
   "outputs": [],
   "source": [
    "output=model_verifier('v3_secondtry_6292_6337.hdf5', runs)"
   ]
  },
  {
   "cell_type": "code",
   "execution_count": 16,
   "metadata": {},
   "outputs": [
    {
     "name": "stdout",
     "output_type": "stream",
     "text": [
      "{'6330': array([-2.       , -1.1336053]), '6337': array([-2.        , -1.13237874])}\n"
     ]
    }
   ],
   "source": [
    "print(output)"
   ]
  },
  {
   "cell_type": "code",
   "execution_count": null,
   "metadata": {},
   "outputs": [],
   "source": [
    "model=load_model('v3_firsttry.hdf5')\n",
    "\n",
    "test=[data_dict['6292'][0].channel_2_aligned_waveforms[100]]\n",
    "test=np.asarray(test)\n",
    "print(model.predict(test))\n",
    "print(data_dict['6292'][0].adjusted_percentages[100])\n",
    "print(data_dict['6292'][0].prelim_percentages[100])\n",
    "print(1/data_dict['6292'][0].adjustment_factor)"
   ]
  },
  {
   "cell_type": "code",
   "execution_count": null,
   "metadata": {},
   "outputs": [],
   "source": [
    "\n",
    "\n",
    "d1=DataObject('6292_skimTree.hdf5')"
   ]
  },
  {
   "cell_type": "code",
   "execution_count": null,
   "metadata": {},
   "outputs": [],
   "source": [
    "d2=DataObject('D:\\\\Murali Backup\\\\Documents\\\\15-Cornell-3rd-year\\\\2nd-Semester\\\\Pulse_Generation_and_Neural_Net\\\\Workspace\\\\Dual_Readout_Calorimetry\\\\Real_Data\\\\beamline_data\\\\Real_Data\\\\6337_skimTree.hdf5')"
   ]
  },
  {
   "cell_type": "code",
   "execution_count": null,
   "metadata": {},
   "outputs": [],
   "source": [
    "a=d1.final_output()\n",
    "b=d2.final_output()"
   ]
  },
  {
   "cell_type": "code",
   "execution_count": null,
   "metadata": {},
   "outputs": [],
   "source": [
    "a[0].shape"
   ]
  },
  {
   "cell_type": "code",
   "execution_count": null,
   "metadata": {},
   "outputs": [],
   "source": []
  },
  {
   "cell_type": "code",
   "execution_count": null,
   "metadata": {},
   "outputs": [],
   "source": [
    "print(len(a[0])==len(a[1]))"
   ]
  },
  {
   "cell_type": "code",
   "execution_count": null,
   "metadata": {},
   "outputs": [],
   "source": [
    "print(len(b[0])==len(b[1]))"
   ]
  },
  {
   "cell_type": "code",
   "execution_count": null,
   "metadata": {},
   "outputs": [],
   "source": [
    "print(len(a[0][0]))"
   ]
  },
  {
   "cell_type": "code",
   "execution_count": null,
   "metadata": {},
   "outputs": [],
   "source": [
    "print(len(b[0][0]))"
   ]
  },
  {
   "cell_type": "code",
   "execution_count": null,
   "metadata": {},
   "outputs": [],
   "source": [
    "print(a[0])"
   ]
  },
  {
   "cell_type": "code",
   "execution_count": null,
   "metadata": {},
   "outputs": [],
   "source": [
    "X=np.concatenate((a[0],b[0]))\n",
    "Y=np.concatenate((a[1],b[1]))"
   ]
  },
  {
   "cell_type": "code",
   "execution_count": null,
   "metadata": {},
   "outputs": [],
   "source": [
    "model, history=model_trainer('v3_firsttry',X,Y)"
   ]
  },
  {
   "cell_type": "code",
   "execution_count": null,
   "metadata": {},
   "outputs": [],
   "source": [
    "test=[X[5000]]\n",
    "test=np.asarray(test)\n",
    "\n",
    "p=model.predict(test)"
   ]
  },
  {
   "cell_type": "code",
   "execution_count": null,
   "metadata": {},
   "outputs": [],
   "source": [
    "print(2*(Y[5000]-p)/(Y[5000]+p))"
   ]
  },
  {
   "cell_type": "code",
   "execution_count": null,
   "metadata": {},
   "outputs": [],
   "source": [
    "print(p)"
   ]
  },
  {
   "cell_type": "code",
   "execution_count": null,
   "metadata": {},
   "outputs": [],
   "source": [
    "print(Y[5000])"
   ]
  },
  {
   "cell_type": "code",
   "execution_count": null,
   "metadata": {},
   "outputs": [],
   "source": []
  },
  {
   "cell_type": "code",
   "execution_count": null,
   "metadata": {},
   "outputs": [],
   "source": []
  },
  {
   "cell_type": "code",
   "execution_count": null,
   "metadata": {},
   "outputs": [],
   "source": []
  },
  {
   "cell_type": "code",
   "execution_count": null,
   "metadata": {},
   "outputs": [],
   "source": []
  },
  {
   "cell_type": "code",
   "execution_count": null,
   "metadata": {},
   "outputs": [],
   "source": []
  },
  {
   "cell_type": "code",
   "execution_count": null,
   "metadata": {},
   "outputs": [],
   "source": []
  },
  {
   "cell_type": "code",
   "execution_count": null,
   "metadata": {},
   "outputs": [],
   "source": []
  },
  {
   "cell_type": "code",
   "execution_count": null,
   "metadata": {},
   "outputs": [],
   "source": []
  },
  {
   "cell_type": "code",
   "execution_count": null,
   "metadata": {},
   "outputs": [],
   "source": []
  },
  {
   "cell_type": "code",
   "execution_count": null,
   "metadata": {},
   "outputs": [],
   "source": []
  },
  {
   "cell_type": "code",
   "execution_count": null,
   "metadata": {},
   "outputs": [],
   "source": []
  },
  {
   "cell_type": "code",
   "execution_count": null,
   "metadata": {},
   "outputs": [],
   "source": []
  },
  {
   "cell_type": "code",
   "execution_count": null,
   "metadata": {},
   "outputs": [],
   "source": []
  },
  {
   "cell_type": "code",
   "execution_count": null,
   "metadata": {},
   "outputs": [],
   "source": []
  },
  {
   "cell_type": "code",
   "execution_count": null,
   "metadata": {},
   "outputs": [],
   "source": [
    "file=h5py.File('D:\\\\Murali Backup\\\\Documents\\\\15-Cornell-3rd-year\\\\2nd-Semester\\\\Pulse_Generation_and_Neural_Net\\\\Workspace\\\\Dual_Readout_Calorimetry\\\\Real_Data\\\\beamline_data\\\\Real_Data\\\\6337_skimTree.hdf5','r')\n",
    "file.close()"
   ]
  }
 ],
 "metadata": {
  "kernelspec": {
   "display_name": "Python 3",
   "language": "python",
   "name": "python3"
  },
  "language_info": {
   "codemirror_mode": {
    "name": "ipython",
    "version": 3
   },
   "file_extension": ".py",
   "mimetype": "text/x-python",
   "name": "python",
   "nbconvert_exporter": "python",
   "pygments_lexer": "ipython3",
   "version": "3.6.5"
  }
 },
 "nbformat": 4,
 "nbformat_minor": 2
}
