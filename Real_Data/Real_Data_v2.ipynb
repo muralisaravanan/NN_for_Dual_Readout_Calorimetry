{
 "cells": [
  {
   "cell_type": "code",
   "execution_count": 1,
   "metadata": {},
   "outputs": [
    {
     "name": "stderr",
     "output_type": "stream",
     "text": [
      "Using TensorFlow backend.\n"
     ]
    }
   ],
   "source": [
    "import os\n",
    "import numpy as np\n",
    "import matplotlib.pyplot as plt\n",
    "import h5py\n",
    "import scipy.integrate\n",
    "import scipy as sp\n",
    "import matplotlib\n",
    "import matplotlib.pyplot as plt\n",
    "import numpy as np\n",
    "import scipy as sp\n",
    "import scipy.signal as signal\n",
    "import random\n",
    "import keras\n",
    "from keras.callbacks import ModelCheckpoint, EarlyStopping\n",
    "from sklearn.model_selection import train_test_split\n",
    "from keras.models import Sequential, load_model\n",
    "from keras.layers import Dense\n",
    "from keras.wrappers.scikit_learn import KerasRegressor\n",
    "from sklearn.model_selection import cross_val_score\n",
    "from sklearn.model_selection import KFold\n",
    "from sklearn.preprocessing import StandardScaler\n",
    "from sklearn.pipeline import Pipeline\n",
    "import utils\n",
    "import h5py\n",
    "import time\n",
    "from sklearn.preprocessing import MinMaxScaler"
   ]
  },
  {
   "cell_type": "code",
   "execution_count": 2,
   "metadata": {},
   "outputs": [],
   "source": [
    "def fit_func(x, A, B, tau_1, tau_2):\n",
    "    return A*np.exp(-(x)/tau_1) +B*np.exp(-(x)/tau_2)\n",
    "\n",
    "\n",
    "\n",
    "def get_channel_2(data):\n",
    "    \n",
    "    data=np.asarray(data)\n",
    "    digitizer_arrays=[]\n",
    "\n",
    "    for val in data:\n",
    "        digitizer_arrays.append(val[3][:8192])\n",
    "    \n",
    "    \n",
    "    digitizer_channel_2=[]\n",
    "    for array in digitizer_arrays:\n",
    "        pedestal=array[2048]\n",
    "        digitizer_channel_2.append(-array[2048:3072]+pedestal)\n",
    "    \n",
    "    digitizer_channel_2=np.asarray(digitizer_channel_2)\n",
    "    return digitizer_channel_2\n",
    "\n",
    "\n",
    "def channel_2_cleaning(digitizer_channel_2):\n",
    "    digitizer_channel_2_cut=[]\n",
    "    half_max_index=[]\n",
    "    for array in digitizer_channel_2:\n",
    "        max_val=np.max(array)\n",
    "        max_val_index=array.argmax()\n",
    "        half_val=max_val/2\n",
    "        try:\n",
    "            idx = (np.abs(array[:max_val_index] - half_val)).argmin()\n",
    "            if idx < 200 and (np.abs(max_val_index-idx)<15) and (max_val>0.05):\n",
    "                half_max_index.append(idx)\n",
    "                digitizer_channel_2_cut.append(array)\n",
    "        except ValueError:\n",
    "            pass\n",
    "\n",
    "    digitizer_channel_2_cut=np.asarray(digitizer_channel_2_cut)\n",
    "    \n",
    "    return digitizer_channel_2_cut, half_max_index\n",
    "\n",
    "\n",
    "def channel_2_aligning(digitizer_channel_2_cut, half_max_index):\n",
    "    cut_vals=[]\n",
    "    min_of_half_max=min(half_max_index)\n",
    "    for i in half_max_index:\n",
    "        cut_vals.append(i-min_of_half_max)\n",
    "    \n",
    "    aligned_digitizer_channel_2_cut=[]\n",
    "    lengths=[]\n",
    "    \n",
    "    for i in range(len(digitizer_channel_2_cut)):\n",
    "        lengths.append(len(digitizer_channel_2_cut[i][cut_vals[i]:]))\n",
    "    \n",
    "    \n",
    "    min_length=min(lengths)\n",
    "    \n",
    "    \n",
    "    \n",
    "    for i in range(len(digitizer_channel_2_cut)):\n",
    "        assert len(digitizer_channel_2_cut)==len(cut_vals)\n",
    "        array=digitizer_channel_2_cut[i][cut_vals[i]:cut_vals[i]+min_length]\n",
    "        aligned_digitizer_channel_2_cut.append(array[:])\n",
    "    \n",
    "    aligned_digitizer_channel_2_cut=np.asarray(aligned_digitizer_channel_2_cut)\n",
    "    return aligned_digitizer_channel_2_cut\n",
    "\n",
    "\n",
    "def calculate_percentages(aligned_digitizer_channel_2_cut):\n",
    "    dt=0.4\n",
    "    aligned_digitizer_channel_2_cut_avg=np.mean(aligned_digitizer_channel_2_cut, axis=0)\n",
    "    \n",
    "    \n",
    "    xdata=np.arange(0,len(aligned_digitizer_channel_2_cut_avg)*0.4,0.4)\n",
    "    ydata=aligned_digitizer_channel_2_cut_avg\n",
    "    popt, pcov = sp.optimize.curve_fit(fit_func, xdata[14:], ydata[14:] , p0=(0.26, 0.74,55,145))\n",
    "    \n",
    "    b=sp.integrate.trapz(ydata[14:], xdata[14:])\n",
    "    c=sp.integrate.trapz(ydata, xdata)\n",
    "    a=b/c\n",
    "    \n",
    "    \n",
    "    \n",
    "    adjusted_percentages=[]\n",
    "    for array in aligned_digitizer_channel_2_cut:\n",
    "    \n",
    "        cerenkov=np.trapz(array[:14], dx=dt)\n",
    "        scint=np.trapz(array[14:], dx=dt)\n",
    "        \n",
    "        \n",
    "        \n",
    "        adjusted_cerenkov=cerenkov-(scint*((1/a)-1))\n",
    "        adjusted_scint=scint/a\n",
    "        total=adjusted_cerenkov+adjusted_scint\n",
    "        adjusted_percentages.append([adjusted_cerenkov, adjusted_scint])\n",
    "        \n",
    "    adjusted_percentages=np.asarray(adjusted_percentages)\n",
    "    return adjusted_percentages\n",
    "\n",
    "\n",
    "\n",
    "def data_preprocessing(filename):\n",
    "    file=h5py.File(filename,'r')\n",
    "    data = file.get('data')\n",
    "    digitizer_channel_2=get_channel_2(data)\n",
    "    \n",
    "    digitizer_channel_2_cut, half_max_index=channel_2_cleaning(digitizer_channel_2)\n",
    "    \n",
    "    \n",
    "    aligned_digitizer_channel_2_cut=channel_2_aligning(digitizer_channel_2_cut, half_max_index)\n",
    "    \n",
    "    \n",
    "    output_values=calculate_percentages(aligned_digitizer_channel_2_cut)\n",
    "    \n",
    "    \n",
    "    return aligned_digitizer_channel_2_cut, output_values\n",
    "    \n",
    "\n",
    "\n",
    "\n",
    "\n",
    "    \n",
    "    \n",
    "        "
   ]
  },
  {
   "cell_type": "code",
   "execution_count": 3,
   "metadata": {},
   "outputs": [],
   "source": [
    "aligned_digitizer_channel_2_cut, output_values=data_preprocessing('6292_skimTree.hdf5')"
   ]
  },
  {
   "cell_type": "code",
   "execution_count": 7,
   "metadata": {},
   "outputs": [
    {
     "name": "stdout",
     "output_type": "stream",
     "text": [
      "[[ 0.21359943  7.59122576]\n",
      " [ 0.0410795   7.97126993]\n",
      " [-0.04655451  3.17664191]\n",
      " ...\n",
      " [-0.01701857  3.18208076]\n",
      " [-0.02674683  2.42975735]\n",
      " [-0.01672821  5.57656454]]\n"
     ]
    }
   ],
   "source": [
    "print(output_values)"
   ]
  },
  {
   "cell_type": "code",
   "execution_count": 17,
   "metadata": {},
   "outputs": [
    {
     "data": {
      "text/plain": [
       "[<matplotlib.lines.Line2D at 0x1913cb39a58>]"
      ]
     },
     "execution_count": 17,
     "metadata": {},
     "output_type": "execute_result"
    },
    {
     "data": {
      "image/png": "[encoded data removed]",
      "text/plain": [
       "<Figure size 432x288 with 1 Axes>"
      ]
     },
     "metadata": {},
     "output_type": "display_data"
    }
   ],
   "source": [
    "plt.plot(aligned_digitizer_channel_2_cut[75370])"
   ]
  },
  {
   "cell_type": "code",
   "execution_count": 19,
   "metadata": {},
   "outputs": [],
   "source": [
    "file=h5py.File('D:\\\\Murali Backup\\\\Documents\\\\15-Cornell-3rd-year\\\\2nd-Semester\\\\Pulse_Generation_and_Neural_Net\\\\Workspace\\\\Dual_Readout_Calorimetry\\\\Real_Data\\\\beamline_data\\\\Real_Data\\\\6311_skimTree.hdf5','r')"
   ]
  },
  {
   "cell_type": "code",
   "execution_count": 20,
   "metadata": {},
   "outputs": [],
   "source": [
    "aligned_digitizer_channel_2_cut_2, output_values_2=data_preprocessing('D:\\\\Murali Backup\\\\Documents\\\\15-Cornell-3rd-year\\\\2nd-Semester\\\\Pulse_Generation_and_Neural_Net\\\\Workspace\\\\Dual_Readout_Calorimetry\\\\Real_Data\\\\beamline_data\\\\Real_Data\\\\6311_skimTree.hdf5')"
   ]
  },
  {
   "cell_type": "code",
   "execution_count": 21,
   "metadata": {},
   "outputs": [
    {
     "name": "stdout",
     "output_type": "stream",
     "text": [
      "[[-0.03029967  6.92699779]\n",
      " [-0.06180536  5.33222121]\n",
      " [-0.11257935  5.94336081]\n",
      " ...\n",
      " [-0.03624863  1.41440821]\n",
      " [-0.0622215   7.69218758]\n",
      " [-0.20768408  6.13294278]]\n"
     ]
    }
   ],
   "source": [
    "print(output_values_2)"
   ]
  },
  {
   "cell_type": "code",
   "execution_count": 24,
   "metadata": {},
   "outputs": [
    {
     "data": {
      "text/plain": [
       "[<matplotlib.lines.Line2D at 0x1913cbb1d30>]"
      ]
     },
     "execution_count": 24,
     "metadata": {},
     "output_type": "execute_result"
    },
    {
     "data": {
      "image/png": "[encoded data removed]",
      "text/plain": [
       "<Figure size 432x288 with 1 Axes>"
      ]
     },
     "metadata": {},
     "output_type": "display_data"
    }
   ],
   "source": [
    "plt.plot(aligned_digitizer_channel_2_cut[7570])"
   ]
  },
  {
   "cell_type": "code",
   "execution_count": null,
   "metadata": {},
   "outputs": [],
   "source": []
  },
  {
   "cell_type": "code",
   "execution_count": 25,
   "metadata": {},
   "outputs": [],
   "source": [
    "file.close()"
   ]
  },
  {
   "cell_type": "code",
   "execution_count": 26,
   "metadata": {},
   "outputs": [],
   "source": [
    "file.close()"
   ]
  },
  {
   "cell_type": "code",
   "execution_count": null,
   "metadata": {},
   "outputs": [],
   "source": []
  },
  {
   "cell_type": "code",
   "execution_count": null,
   "metadata": {},
   "outputs": [],
   "source": []
  },
  {
   "cell_type": "code",
   "execution_count": null,
   "metadata": {},
   "outputs": [],
   "source": []
  },
  {
   "cell_type": "code",
   "execution_count": null,
   "metadata": {},
   "outputs": [],
   "source": []
  },
  {
   "cell_type": "code",
   "execution_count": null,
   "metadata": {},
   "outputs": [],
   "source": []
  }
 ],
 "metadata": {
  "kernelspec": {
   "display_name": "Python 3",
   "language": "python",
   "name": "python3"
  },
  "language_info": {
   "codemirror_mode": {
    "name": "ipython",
    "version": 3
   },
   "file_extension": ".py",
   "mimetype": "text/x-python",
   "name": "python",
   "nbconvert_exporter": "python",
   "pygments_lexer": "ipython3",
   "version": "3.6.5"
  }
 },
 "nbformat": 4,
 "nbformat_minor": 2
}
